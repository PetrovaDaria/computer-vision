{
 "cells": [
  {
   "cell_type": "markdown",
   "metadata": {
    "colab_type": "text",
    "collapsed": true,
    "id": "OX2CrDns5ksv"
   },
   "source": [
    "# Задание 1. Лийнейная регрессия\n",
    "\n",
    "\n",
    "\n",
    "\n",
    "\n"
   ]
  },
  {
   "cell_type": "markdown",
   "metadata": {
    "colab_type": "text",
    "id": "bIB42GHY5ksz"
   },
   "source": [
    "\n",
    "\n",
    "\n",
    "\n",
    "Для выполнения заданий нам понадобится библиотека для работы с матрицами **numpy** \n",
    "\n",
    "Небольшое введение по работу с numpy: http://pyviy.blogspot.ru/2009/09/numpy.html"
   ]
  },
  {
   "cell_type": "markdown",
   "metadata": {
    "colab_type": "text",
    "id": "sioKOGAF5ks2"
   },
   "source": [
    "### Мы будем решать задачу определения стоимости недвижимости\n",
    "\n",
    "Исходные данные находятся в data.csv  \n",
    "Столбцы:  \n",
    "Index  \n",
    "A1, the local selling prices, in hundreds of dollars;  \n",
    "A2, the number of bathrooms;  \n",
    "A3, the area of the site in thousands of square feet;  \n",
    "A4, the size of the living space in thousands of square feet;  \n",
    "A5, the number of garages;  \n",
    "A6, the number of rooms;  \n",
    "A7, the number of bedrooms;  \n",
    "A8, the age in years;  \n",
    "A9, construction type  \n",
    "A10, architecture type  \n",
    "A11, number of fire places.  \n",
    "B, selling price   \n",
    "\n",
    "    Мы будем искать модель в виде:\n",
    "    B = A1 * X1 + A2 * X2 + A3 * X3 + A4 * X4 + A5 * X5 + A6 * X6 + A7 * X7\n",
    "      + A8 * X8 + A9 * X9 + A10 * X10 + A11 * X11"
   ]
  },
  {
   "cell_type": "markdown",
   "metadata": {
    "colab_type": "text",
    "id": "SU2cQrb-5ks3"
   },
   "source": [
    "### 1. Чтение данных из файла"
   ]
  },
  {
   "cell_type": "code",
   "execution_count": 1,
   "metadata": {
    "colab": {},
    "colab_type": "code",
    "id": "7_LB2CTL5ks7"
   },
   "outputs": [],
   "source": [
    "#Импорт всех необходимых библиотек\n",
    "import matplotlib.pyplot as plt\n",
    "from numpy import genfromtxt\n",
    "import numpy as np"
   ]
  },
  {
   "cell_type": "code",
   "execution_count": 0,
   "metadata": {
    "colab": {
     "base_uri": "https://localhost:8080/",
     "height": 41,
     "resources": {
      "http://localhost:8080/nbextensions/google.colab/files.js": {
       "data": "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",
       "headers": [
        [
         "content-type",
         "application/javascript"
        ]
       ],
       "ok": true,
       "status": 200,
       "status_text": "OK"
      }
     }
    },
    "colab_type": "code",
    "id": "4DcwlDyY6EnO",
    "outputId": "dc2ba670-8a63-486b-a44c-b50eb383c3b1"
   },
   "outputs": [
    {
     "data": {
      "text/html": [
       "\n",
       "     <input type=\"file\" id=\"files-3e07ad3d-ed50-46cc-9824-ebf111f774e0\" name=\"files[]\" multiple disabled />\n",
       "     <output id=\"result-3e07ad3d-ed50-46cc-9824-ebf111f774e0\">\n",
       "      Upload widget is only available when the cell has been executed in the\n",
       "      current browser session. Please rerun this cell to enable.\n",
       "      </output>\n",
       "      <script src=\"/nbextensions/google.colab/files.js\"></script> "
      ],
      "text/plain": [
       "<IPython.core.display.HTML object>"
      ]
     },
     "metadata": {
      "tags": []
     },
     "output_type": "display_data"
    }
   ],
   "source": [
    "# Только для загрузки cvs файла в Google Colab\n",
    "from google.colab import files\n",
    "uploaded = files.upload()"
   ]
  },
  {
   "cell_type": "code",
   "execution_count": 4,
   "metadata": {
    "colab": {
     "base_uri": "https://localhost:8080/",
     "height": 54
    },
    "colab_type": "code",
    "id": "uCGQ0wLM5ktE",
    "outputId": "715f5ce3-0898-4ba8-e72c-66903a73d639"
   },
   "outputs": [
    {
     "name": "stdout",
     "output_type": "stream",
     "text": [
      "(28, 13)\n",
      "(28, 11)\n"
     ]
    }
   ],
   "source": [
    "#Чтение данных из файла\n",
    "my_data = genfromtxt('data.csv', delimiter=' ')\n",
    "my_data = np.asmatrix(my_data)\n",
    "my_data #Выводим результат\n",
    "print(my_data.shape) #.shape возвращает вектор с количеством строк и столбцов в матрице\n",
    "\n",
    "#Убираем первый столбец матрицы, так как он содержит порядковый номер и последний, так как там значения y\n",
    "# в скобках указываем [строки которые нам нужны, столбцы которые нам нужны]\n",
    "# : - все строки, a:b - столбцы от a до b\n",
    "X = my_data[:,1:(my_data.shape[1]-1)] \n",
    "#print(X)\n",
    "print(X.shape)"
   ]
  },
  {
   "cell_type": "code",
   "execution_count": 7,
   "metadata": {
    "colab": {
     "base_uri": "https://localhost:8080/",
     "height": 550
    },
    "colab_type": "code",
    "id": "0FftWhw95ktL",
    "outputId": "5078d757-6c9e-4f9b-fee4-860b457940b4"
   },
   "outputs": [
    {
     "name": "stdout",
     "output_type": "stream",
     "text": [
      "[[25.9]\n",
      " [29.5]\n",
      " [27.9]\n",
      " [25.9]\n",
      " [29.9]\n",
      " [29.9]\n",
      " [30.9]\n",
      " [28.9]\n",
      " [84.9]\n",
      " [82.9]\n",
      " [35.9]\n",
      " [31.5]\n",
      " [31. ]\n",
      " [30.9]\n",
      " [30. ]\n",
      " [28.9]\n",
      " [36.9]\n",
      " [41.9]\n",
      " [40.5]\n",
      " [43.9]\n",
      " [37.5]\n",
      " [37.9]\n",
      " [44.5]\n",
      " [37.9]\n",
      " [38.9]\n",
      " [36.9]\n",
      " [45.8]\n",
      " [41. ]]\n",
      "28\n"
     ]
    }
   ],
   "source": [
    "# y - вектор цен на недвижимость, а X - матрица признаков\n",
    "y = my_data[:,(my_data.shape[1]-1)] \n",
    "print(y)\n",
    "m = y.shape[0] # количество примеров в обучающей выборке\n",
    "print(m)"
   ]
  },
  {
   "cell_type": "code",
   "execution_count": 5,
   "metadata": {
    "colab": {},
    "colab_type": "code",
    "id": "NSK0rlW85ktR",
    "outputId": "968ccb51-82ac-42d8-a4ad-41942e1a8219"
   },
   "outputs": [
    {
     "name": "stdout",
     "output_type": "stream",
     "text": [
      "[[0.998]\n",
      " [1.5  ]\n",
      " [1.175]\n",
      " [1.232]\n",
      " [1.121]\n",
      " [0.988]\n",
      " [1.24 ]\n",
      " [1.501]\n",
      " [3.42 ]\n",
      " [3.   ]\n",
      " [1.225]\n",
      " [1.552]\n",
      " [0.975]\n",
      " [1.121]\n",
      " [1.02 ]\n",
      " [1.501]\n",
      " [1.664]\n",
      " [1.488]\n",
      " [1.376]\n",
      " [1.5  ]\n",
      " [1.256]\n",
      " [1.69 ]\n",
      " [1.82 ]\n",
      " [1.652]\n",
      " [1.777]\n",
      " [1.504]\n",
      " [1.831]\n",
      " [1.2  ]]\n"
     ]
    }
   ],
   "source": [
    "X_area = X[:,3] #четвертый столбец матрицы X - жилая площадь дома\n",
    "print(X_area)"
   ]
  },
  {
   "cell_type": "markdown",
   "metadata": {
    "colab_type": "text",
    "id": "dJkP-4b45ktX"
   },
   "source": [
    "### 2. Зависимость от одной переменной\n",
    "Предположим, что цена дома зависит только от одного признака - его жилой площади.  \n",
    "Поэтому за X мы взяли четвертый столбец матрицы признаков  \n",
    "Построим график зависимости цены от площади"
   ]
  },
  {
   "cell_type": "code",
   "execution_count": 8,
   "metadata": {
    "colab": {},
    "colab_type": "code",
    "id": "knbGRGsd5ktZ",
    "outputId": "5292be0a-a940-4ad3-fb7b-632a425fff66"
   },
   "outputs": [
    {
     "data": {
      "image/png": "[encoded data removed]",
      "text/plain": [
       "<Figure size 432x288 with 1 Axes>"
      ]
     },
     "metadata": {
      "needs_background": "light"
     },
     "output_type": "display_data"
    }
   ],
   "source": [
    "plt.plot(X_area, y,'x')  # 'x' - рисуем наши данные крестиками\n",
    "plt.xlabel(\"Area of house\")\n",
    "plt.ylabel(\"Price of house\")\n",
    "plt.show()"
   ]
  },
  {
   "cell_type": "markdown",
   "metadata": {
    "colab_type": "text",
    "id": "L_E2Vwnl5kte"
   },
   "source": [
    "### 3. Функция стоимости\n",
    "Мы будем искать нашу зависимость в виде прямой y = kx + b, где x - жилая площадь дома, y - цена дома  \n",
    "То есть требуется найти вектор параметров theta = [b,k]   \n",
    "Для удобства вычислений добавим в X столбец из единиц,    \n",
    "**тогда мы сможем вычислять стоимость в векторном виде y = X * theta**\n",
    "\n",
    "Вопрос: какая размерность будет у y?\n",
    "**Ответ:** размерность y - (28, 1)"
   ]
  },
  {
   "cell_type": "code",
   "execution_count": 9,
   "metadata": {
    "colab": {},
    "colab_type": "code",
    "id": "Vrzpsmz45ktf",
    "outputId": "076c8782-02cf-4d24-f392-a5d85eeee21c"
   },
   "outputs": [
    {
     "name": "stdout",
     "output_type": "stream",
     "text": [
      "[[1.    0.998]\n",
      " [1.    1.5  ]\n",
      " [1.    1.175]\n",
      " [1.    1.232]\n",
      " [1.    1.121]\n",
      " [1.    0.988]\n",
      " [1.    1.24 ]\n",
      " [1.    1.501]\n",
      " [1.    3.42 ]\n",
      " [1.    3.   ]\n",
      " [1.    1.225]\n",
      " [1.    1.552]\n",
      " [1.    0.975]\n",
      " [1.    1.121]\n",
      " [1.    1.02 ]\n",
      " [1.    1.501]\n",
      " [1.    1.664]\n",
      " [1.    1.488]\n",
      " [1.    1.376]\n",
      " [1.    1.5  ]\n",
      " [1.    1.256]\n",
      " [1.    1.69 ]\n",
      " [1.    1.82 ]\n",
      " [1.    1.652]\n",
      " [1.    1.777]\n",
      " [1.    1.504]\n",
      " [1.    1.831]\n",
      " [1.    1.2  ]]\n",
      "(28, 2)\n"
     ]
    }
   ],
   "source": [
    "X_area2 = np.append(np.ones((m,1)),X_area,1)\n",
    "print(X_area2)\n",
    "print(X_area2.shape)"
   ]
  },
  {
   "cell_type": "code",
   "execution_count": 0,
   "metadata": {
    "colab": {},
    "colab_type": "code",
    "id": "uGbMzx4E5ktm",
    "outputId": "a598e899-2698-47c0-b426-84b898233923"
   },
   "outputs": [
    {
     "name": "stdout",
     "output_type": "stream",
     "text": [
      "[[ 1.  1.  1.]]\n",
      "[[ 1.]\n",
      " [ 1.]\n",
      " [ 1.]]\n",
      "3.0\n",
      "[ 1  9 25]\n",
      "[ 2  6 10]\n"
     ]
    }
   ],
   "source": [
    "#Операция транспонирования в numpy\n",
    "a= np.ones((1,3))\n",
    "print(a)\n",
    "print(a.T)\n",
    "\n",
    "print(np.sum(a)) #сумма элементов вектора\n",
    "\n",
    "print(np.power(np.array([1,3,5]),2)) #поэлементное возведение в квадрат \n",
    "print(2 * np.array([1,3,5])) #умножение на число"
   ]
  },
  {
   "cell_type": "markdown",
   "metadata": {
    "colab_type": "text",
    "id": "ybbalC5R5ktr"
   },
   "source": [
    "Для выполнения алгоритма градиентного спуска нам необходима функция стоимости, которая будет оценивать насколько хорошо алгоритм работает на обучающей выборке.   \n",
    "**Допишите функцию стоимости чтобы она возвращала правильное значение J.**   \n",
    "Не забудьте, что эффективнее проводить вычисления с использованием умножения матриц\n",
    "Обратите внимание, в языке python тело функции не находится внутри фигурных скобок {} как в других языках программирования, тело функций и циклов отделено табуляцией"
   ]
  },
  {
   "cell_type": "code",
   "execution_count": 10,
   "metadata": {
    "colab": {},
    "colab_type": "code",
    "id": "1VJHLcER5kts",
    "outputId": "b268cc09-866c-4614-9212-54e2b6817d04"
   },
   "outputs": [
    {
     "name": "stdout",
     "output_type": "stream",
     "text": [
      "Ошибка при данном векторе theta составляет:\n",
      "725.1799981607144\n"
     ]
    }
   ],
   "source": [
    "def cost(X,y,theta):\n",
    "    m = y.shape[0] # значение которое вам пригодится - длина вектора y\n",
    "    return np.sum((np.power(X * theta - y, 2))) / (2 * m)\n",
    "\n",
    "#725.179998161\n",
    "#Проверим, что функция работает\n",
    "theta = np.ones((2,1))\n",
    "print(\"Ошибка при данном векторе theta составляет:\")\n",
    "print(cost(X_area2,y,theta))"
   ]
  },
  {
   "cell_type": "markdown",
   "metadata": {
    "colab_type": "text",
    "id": "qN0HfdYu5ktx"
   },
   "source": [
    "### 4. Градиентный спуск"
   ]
  },
  {
   "cell_type": "markdown",
   "metadata": {
    "colab_type": "text",
    "id": "EYD9O2J75ktz"
   },
   "source": [
    "### Задача: Подумайте о том как можно записать формулу обновления вектора theta в виде произведения матрицы X и векторов y и theta без оператора суммы\n",
    "\n",
    "$$ \\theta_1 = \\theta_1 - \\frac{alpha}{m} * \\sum_{i=1}^{m} (h_\\theta(x^{(i)}) - y^{(i)})* x_1^{(i)}  $$"
   ]
  },
  {
   "cell_type": "markdown",
   "metadata": {
    "colab_type": "text",
    "id": "U36cztGz5kt1"
   },
   "source": [
    "Реализуйте алгоритм градиентного спуска, принимающего данные для обучения X и у, скорость обучения alpha и количество итераций, функция gradientDescent должна возвращать найденный вектор параметров theta"
   ]
  },
  {
   "cell_type": "code",
   "execution_count": 42,
   "metadata": {
    "colab": {},
    "colab_type": "code",
    "id": "b4iZxHE65kt1",
    "outputId": "4062c0eb-2308-4430-805f-450901cf8051"
   },
   "outputs": [
    {
     "name": "stdout",
     "output_type": "stream",
     "text": [
      "Найденный вектор theta алгоритмом градиентного спуска:\n",
      "[[ 2.90010012]\n",
      " [23.3640224 ]]\n",
      "Ошибка при этом значении theta:\n",
      "14.579898115763427\n"
     ]
    }
   ],
   "source": [
    "theta = np.zeros((2,1)) # в качестве начального значения возьмем нулевой вектор-столбец\n",
    "iterations = 1500; # количество итераций для выполнения градиентного спуска\n",
    "alpha = 0.02; # скорость обучения\n",
    "\n",
    "X = my_data[:,1:(my_data.shape[1]-1)][:, 3]\n",
    "X = np.hstack((np.ones((X.shape[0], 1)), X))\n",
    "y = my_data[:,(my_data.shape[1]-1)] \n",
    "\n",
    "def gradientDescent(X, y, theta, alpha, iterations):\n",
    "    m = y.shape[0]\n",
    "    J_history = np.empty((iterations,1))\n",
    "    for i in range(iterations):\n",
    "        thetas = []\n",
    "        for i in range(theta.shape[0]):\n",
    "            new_theta = (alpha / m) * np.sum(np.array(X.dot(theta) - y) * np.array(X[:, i]))\n",
    "            thetas.append([new_theta])\n",
    "        theta -= thetas\n",
    "        J_history[i] = cost(X,y,theta) #Будем сохранять ошибку на каждой итерации чтобы построить график\n",
    "    return theta,J_history\n",
    "\n",
    "print(\"Найденный вектор theta алгоритмом градиентного спуска:\")\n",
    "theta_new, J_history = gradientDescent(X,y,theta,alpha,iterations)\n",
    "print(theta_new)\n",
    "print(\"Ошибка при этом значении theta:\")\n",
    "print(cost(X,y,theta_new)) #должна равняться 14.5798981158\n",
    "\n"
   ]
  },
  {
   "cell_type": "code",
   "execution_count": 40,
   "metadata": {
    "colab": {},
    "colab_type": "code",
    "id": "TMs2PlhK5kt5",
    "outputId": "b8a21eeb-4106-47c9-f60e-94952ee0c2c6"
   },
   "outputs": [
    {
     "data": {
      "image/png": "[encoded data removed]",
      "text/plain": [
       "<Figure size 432x288 with 1 Axes>"
      ]
     },
     "metadata": {
      "needs_background": "light"
     },
     "output_type": "display_data"
    }
   ],
   "source": [
    "#Нарисуем найденную прямую\n",
    "plt.plot(X[:,1], y,'x') \n",
    "plt.plot(X[:,1], X*theta_new, color='red')\n",
    "\n",
    "plt.xlabel(\"Area of house\")\n",
    "plt.ylabel(\"Price of house\")\n",
    "plt.show()"
   ]
  },
  {
   "cell_type": "code",
   "execution_count": 41,
   "metadata": {
    "colab": {},
    "colab_type": "code",
    "id": "71nP3YQU5kt-",
    "outputId": "6a6af79e-c478-436f-d2db-983f7a0523b3"
   },
   "outputs": [
    {
     "data": {
      "image/png": "[encoded data removed]",
      "text/plain": [
       "<Figure size 432x288 with 1 Axes>"
      ]
     },
     "metadata": {
      "needs_background": "light"
     },
     "output_type": "display_data"
    }
   ],
   "source": [
    "#Выведем график зависимости ошибки от количества итераций в алгоритме градиентного спуска\n",
    "plt.plot(np.arange(iterations), J_history)\n",
    "plt.xlabel(\"Number of iterations\")\n",
    "plt.ylabel(\"Error\")\n",
    "plt.show()"
   ]
  },
  {
   "cell_type": "markdown",
   "metadata": {
    "colab_type": "text",
    "id": "fBHabfk85kuD"
   },
   "source": [
    "###### Сколько итераций было бы достаточно для решения этой задачи?"
   ]
  },
  {
   "cell_type": "code",
   "execution_count": 103,
   "metadata": {
    "colab": {},
    "colab_type": "code",
    "id": "yw5NFeEw5kuF"
   },
   "outputs": [
    {
     "data": {
      "text/plain": [
       "25"
      ]
     },
     "execution_count": 103,
     "metadata": {},
     "output_type": "execute_result"
    }
   ],
   "source": [
    "25"
   ]
  },
  {
   "cell_type": "markdown",
   "metadata": {
    "colab_type": "text",
    "id": "7X40I23i5kuI"
   },
   "source": [
    "### 5. Случай нескольких переменных\n",
    "Рассмотрим случай, когда стоимость дома зависит от 11 признаков. Какую размерность будет иметь вектор theta?"
   ]
  },
  {
   "cell_type": "code",
   "execution_count": 44,
   "metadata": {
    "colab": {},
    "colab_type": "code",
    "id": "TRp1b_yj5kuJ",
    "outputId": "6ad0580a-207f-4ec0-dde7-61c83f225739"
   },
   "outputs": [
    {
     "name": "stdout",
     "output_type": "stream",
     "text": [
      "(28, 11)\n"
     ]
    }
   ],
   "source": [
    "X = my_data[:,1:(my_data.shape[1]-1)] \n",
    "print(X.shape)\n"
   ]
  },
  {
   "cell_type": "markdown",
   "metadata": {},
   "source": [
    "Размерность theta будет (11, 1)"
   ]
  },
  {
   "cell_type": "markdown",
   "metadata": {
    "colab_type": "text",
    "collapsed": true,
    "id": "MBZzBj1g5kuP"
   },
   "source": [
    "### 6. Нормализация данных \n",
    "\n",
    "Как мы обсуждали на лекциях, алгоритм градиентного спуска работает лучше с нормализованными данными.  \n",
    "Выполните нормализацию матрицы X.\n",
    "Более подробно можно посмотреть здесь: http://www.d.umn.edu/~deoka001/Normalization.html\n",
    "Использование среднеквадратического отклонения это еще один способ нормализации данных, вместо получения максимального и минимального значения признаков.\n",
    "\n",
    "Вам может помочь функции: https://docs.scipy.org/doc/numpy/reference/generated/numpy.mean.html и https://docs.scipy.org/doc/numpy/reference/generated/numpy.std.html\n",
    "\n",
    "Обратите внимание: при вычислении среднего значения можно указать вычислять среднее по столбцам или строкам np.mean(X, axis=0) \n",
    "\n",
    "X это матрица в котором строка это пример обучающей выборки, а столбец - признак. Вам необходимо выполнить нормализацию отдельно по каждому признаку."
   ]
  },
  {
   "cell_type": "markdown",
   "metadata": {
    "colab_type": "text",
    "collapsed": true,
    "id": "_RIiHtBz5kuQ"
   },
   "source": [
    "### 6. Нормализация данных \n",
    "\n",
    "Очень часто признаки, используемые для обучения моделей, могут иметь совершенно разный диапазон значений. В этом можно убедиться заглянув в файл data.csv. Для более быстрой сходимости градиентного спуска в таких ситуациях выполняют предварительную нормализацию данных (слайды 30-32 из ОИ-10.pdf) Цель нормализации - привести все признаки в диапазон значений от -0.5 <= x <= 0.5.\n",
    "X это матрица в котором строка это пример обучающей выборки, а столбец - признак. Нормализация выполняется отдельно по каждому признаку."
   ]
  },
  {
   "cell_type": "code",
   "execution_count": 45,
   "metadata": {
    "colab": {},
    "colab_type": "code",
    "id": "7fUDgrOm5kuS"
   },
   "outputs": [
    {
     "name": "stdout",
     "output_type": "stream",
     "text": [
      "[[-0.79368826 -0.65094455 -1.2506251  -0.95486086 -0.52879882  0.28305246\n",
      "   1.02062073  0.41854426  0.61791438 -0.38411064 -0.6882472 ]\n",
      " [-0.75814155 -0.65094455 -1.22593778 -0.02170893  1.02976613  0.28305246\n",
      "   1.02062073  1.8926624  -1.0298573  -0.38411064 -0.6882472 ]\n",
      " [-0.92275174 -0.65094455 -1.75148486 -0.62584116 -0.52879882 -0.59755519\n",
      "  -0.40824829  0.27113244 -0.20597146 -0.38411064 -0.6882472 ]\n",
      " [-0.91779174 -0.65094455 -1.00877303 -0.51988566 -0.52879882 -0.59755519\n",
      "  -0.40824829  1.30301514  1.44180022 -0.38411064 -0.6882472 ]\n",
      " [-0.74474265 -0.65094455 -0.8393092  -0.72622005 -0.52879882 -0.59755519\n",
      "  -0.40824829  0.41854426  0.61791438 -0.38411064 -0.6882472 ]\n",
      " [-1.14729533 -0.65094455 -0.8393092  -0.97344955 -0.52879882 -0.59755519\n",
      "  -0.40824829  1.45042695 -0.20597146 -0.38411064 -0.6882472 ]\n",
      " [-0.45599454 -0.65094455 -0.25560047 -0.50501471 -0.52879882  0.28305246\n",
      "  -0.40824829  1.08189742 -0.20597146 -0.38411064  1.45296631]\n",
      " [-0.55729576 -0.65094455  1.2800347  -0.01985006 -2.08736377 -0.59755519\n",
      "  -0.40824829 -0.31851481 -1.0298573  -0.38411064 -0.6882472 ]\n",
      " [ 3.16832299  2.99434495  1.39719488  3.54731839  1.02976613  2.92487541\n",
      "   2.44948974  0.41854426 -0.20597146 -0.38411064  1.45296631]\n",
      " [ 2.49307332  2.99434495  2.65248248  2.76659367  1.02976613  2.04426776\n",
      "   2.44948974 -1.64522114  1.44180022 -0.38411064  1.45296631]\n",
      " [-0.48003679 -0.65094455 -0.01081938 -0.53289774  1.02976613 -0.59755519\n",
      "  -0.40824829 -0.31851481 -1.0298573  -0.38411064 -0.6882472 ]\n",
      " [-0.66186922 -0.65094455 -0.61616091  0.07495223 -0.52879882 -0.59755519\n",
      "  -0.40824829 -0.46592663 -1.0298573   1.40840568 -0.6882472 ]\n",
      " [-0.32744772 -0.65094455 -0.3936821  -0.99761483 -0.52879882 -1.47816284\n",
      "  -1.83711731 -0.46592663 -1.0298573   1.40840568 -0.6882472 ]\n",
      " [-0.43491451 -0.65094455  0.08583776 -0.72622005  1.02976613 -0.59755519\n",
      "  -0.40824829 -0.31851481 -0.20597146 -0.38411064 -0.6882472 ]\n",
      " [-0.74808376 -0.65094455 -0.61126529 -0.91396576 -2.08736377 -1.47816284\n",
      "  -1.83711731  0.71336789  1.44180022 -0.38411064  1.45296631]\n",
      " [-0.55729576 -0.65094455  1.2800347  -0.01985006 -2.08736377 -0.59755519\n",
      "  -0.40824829 -0.31851481 -1.0298573  -0.38411064 -0.6882472 ]\n",
      " [ 0.35289973  0.56415195 -0.54850091  0.28314549  1.02976613  1.16366011\n",
      "   1.02062073  1.00819151  1.44180022 -0.38411064 -0.6882472 ]\n",
      " [-0.18081755  0.56415195  0.18458705 -0.04401535  0.25048365  0.28305246\n",
      "  -0.40824829 -1.05557388 -1.0298573  -0.38411064  1.45296631]\n",
      " [ 0.19366288  0.56415195  0.26827289 -0.25220861 -0.52879882 -0.59755519\n",
      "  -0.40824829 -1.42410342 -0.20597146 -0.38411064 -0.6882472 ]\n",
      " [ 0.62570005 -0.65094455  0.56033648 -0.02170893  0.25048365  0.28305246\n",
      "  -0.40824829 -0.98186797  0.61791438  3.200922   -0.6882472 ]\n",
      " [-0.42451228 -0.65094455 -0.3936821  -0.47527282  1.02976613 -0.59755519\n",
      "  -0.40824829  0.27113244  1.44180022 -0.38411064  1.45296631]\n",
      " [ 0.11034168  0.56415195 -1.02969449  0.33147607 -0.52879882 -0.59755519\n",
      "  -0.40824829 -1.05557388 -1.0298573  -0.38411064 -0.6882472 ]\n",
      " [ 0.54189662  0.56415195  1.4348535   0.57312896  1.02976613  1.16366011\n",
      "   1.02062073  1.00819151 -1.0298573  -0.38411064  1.45296631]\n",
      " [-0.38879335  0.56415195  0.11115273  0.26083907 -0.52879882 -0.59755519\n",
      "  -0.40824829  0.56595607  1.44180022 -0.38411064 -0.6882472 ]\n",
      " [ 0.39226978  0.56415195  1.1252159   0.49319762  1.02976613  1.16366011\n",
      "   1.02062073  0.8607797  -1.0298573  -0.38411064  1.45296631]\n",
      " [ 0.3162508  -0.65094455  0.64402232 -0.01427345  1.02976613  0.28305246\n",
      "  -0.40824829 -2.45598611 -1.0298573   3.200922   -0.6882472 ]\n",
      " [ 0.66124676  0.56415195  0.36208472  0.59357651  0.25048365  1.16366011\n",
      "   1.02062073 -0.39222072  1.44180022 -0.38411064 -0.6882472 ]\n",
      " [ 1.64580789  0.56415195 -0.61126529 -0.57936945  1.02976613 -0.59755519\n",
      "  -0.40824829 -0.46592663  0.61791438 -0.38411064  1.45296631]]\n"
     ]
    }
   ],
   "source": [
    "X = (X - np.mean(X, axis=0)) / np.std(X, axis=0)\n",
    "print(X)"
   ]
  },
  {
   "cell_type": "markdown",
   "metadata": {
    "colab_type": "text",
    "id": "TyTSdgi25kuU"
   },
   "source": [
    "Добавим к X столбец единиц"
   ]
  },
  {
   "cell_type": "code",
   "execution_count": 46,
   "metadata": {
    "colab": {},
    "colab_type": "code",
    "id": "ohTzLBLX5kuW",
    "outputId": "1852abb5-5feb-40d2-c8c7-142e2897b766"
   },
   "outputs": [
    {
     "name": "stdout",
     "output_type": "stream",
     "text": [
      "(28, 12)\n"
     ]
    }
   ],
   "source": [
    "X = np.append(np.ones((m,1)),X,1)\n",
    "print(X.shape)"
   ]
  },
  {
   "cell_type": "markdown",
   "metadata": {
    "colab_type": "text",
    "id": "qN2WT2ip5kua"
   },
   "source": [
    "Измените функции стоимости и градиентного спуска если они не поддерживают несколько переменных.\n",
    "Постройте график изменения ошибки от количества итераций"
   ]
  },
  {
   "cell_type": "code",
   "execution_count": 47,
   "metadata": {
    "colab": {},
    "colab_type": "code",
    "id": "o_qBgh755kub",
    "outputId": "edbf6b1b-fb1e-4af3-9f92-2b07280cef19"
   },
   "outputs": [
    {
     "name": "stdout",
     "output_type": "stream",
     "text": [
      "Найденный вектор theta алгоритмом градиентного спуска:\n",
      "[[38.15714286]\n",
      " [ 2.52102402]\n",
      " [ 4.07947982]\n",
      " [ 0.48801461]\n",
      " [ 6.67207163]\n",
      " [ 1.15959427]\n",
      " [-0.92753869]\n",
      " [-0.32669699]\n",
      " [-0.91006827]\n",
      " [ 1.19875726]\n",
      " [ 0.78600669]\n",
      " [ 1.21493978]]\n",
      "Ошибка при этом значении theta:\n",
      "4.670977033342052\n"
     ]
    },
    {
     "data": {
      "text/plain": [
       "'\\nНайденный вектор theta алгоритмом градиентного спуска:\\n[[ 38.15714286]\\n [  2.52102402]\\n [  4.07947982]\\n [  0.48801461]\\n [  6.67207163]\\n [  1.15959427]\\n [ -0.92753869]\\n [ -0.32669699]\\n [ -0.91006827]\\n [  1.19875726]\\n [  0.78600669]\\n [  1.21493978]]\\nОшибка при этом значении theta:\\n4.67097703334\\n'"
      ]
     },
     "execution_count": 47,
     "metadata": {},
     "output_type": "execute_result"
    }
   ],
   "source": [
    "theta = np.zeros((X.shape[1],1))\n",
    "print(\"Найденный вектор theta алгоритмом градиентного спуска:\")\n",
    "theta_new , J_history = gradientDescent(X,y,theta,alpha,iterations)\n",
    "print(theta_new)\n",
    "print(\"Ошибка при этом значении theta:\") #должна равняться 4.67097703334\n",
    "print(cost(X,y,theta_new))\n",
    "'''\n",
    "Найденный вектор theta алгоритмом градиентного спуска:\n",
    "[[ 38.15714286]\n",
    " [  2.52102402]\n",
    " [  4.07947982]\n",
    " [  0.48801461]\n",
    " [  6.67207163]\n",
    " [  1.15959427]\n",
    " [ -0.92753869]\n",
    " [ -0.32669699]\n",
    " [ -0.91006827]\n",
    " [  1.19875726]\n",
    " [  0.78600669]\n",
    " [  1.21493978]]\n",
    "Ошибка при этом значении theta:\n",
    "4.67097703334\n",
    "'''"
   ]
  },
  {
   "cell_type": "code",
   "execution_count": 48,
   "metadata": {
    "colab": {},
    "colab_type": "code",
    "id": "eA4qNa105kuf",
    "outputId": "96737f8a-0684-45d7-d0aa-e023b7059410"
   },
   "outputs": [
    {
     "data": {
      "image/png": "[encoded data removed]",
      "text/plain": [
       "<Figure size 432x288 with 1 Axes>"
      ]
     },
     "metadata": {
      "needs_background": "light"
     },
     "output_type": "display_data"
    }
   ],
   "source": [
    "plt.plot(np.arange(1500), J_history)\n",
    "plt.xlabel(\"Number of iterations\")\n",
    "plt.ylabel(\"Error\")\n",
    "plt.show()"
   ]
  },
  {
   "cell_type": "code",
   "execution_count": null,
   "metadata": {},
   "outputs": [],
   "source": []
  }
 ],
 "metadata": {
  "anaconda-cloud": {},
  "colab": {
   "name": "task1_2019.ipynb",
   "provenance": []
  },
  "kernelspec": {
   "display_name": "Python 3",
   "language": "python",
   "name": "python3"
  },
  "language_info": {
   "codemirror_mode": {
    "name": "ipython",
    "version": 3
   },
   "file_extension": ".py",
   "mimetype": "text/x-python",
   "name": "python",
   "nbconvert_exporter": "python",
   "pygments_lexer": "ipython3",
   "version": "3.7.3"
  }
 },
 "nbformat": 4,
 "nbformat_minor": 1
}
