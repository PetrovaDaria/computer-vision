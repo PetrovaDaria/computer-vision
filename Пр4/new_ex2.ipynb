{
  "nbformat": 4,
  "nbformat_minor": 0,
  "metadata": {
    "anaconda-cloud": {},
    "kernelspec": {
      "name": "python3",
      "display_name": "Python 3"
    },
    "colab": {
      "name": "new_ex2.ipynb",
      "provenance": []
    },
    "accelerator": "TPU"
  },
  "cells": [
    {
      "cell_type": "markdown",
      "metadata": {
        "id": "GJjpRAuxhORm",
        "colab_type": "text"
      },
      "source": [
        "## Введение в обучение нейронных сетей с Keras"
      ]
    },
    {
      "cell_type": "markdown",
      "metadata": {
        "id": "4oNq6vijhORs",
        "colab_type": "text"
      },
      "source": [
        "Данный пример посвящен обучению сверточной нейронной сети на наборе MNIST.    \n",
        "Более подробно о том как работают сверточные нейронные сети можно прочесть здесь: http://cs231n.github.io/convolutional-networks/"
      ]
    },
    {
      "cell_type": "code",
      "metadata": {
        "id": "wv7IZF_jhQYJ",
        "colab_type": "code",
        "colab": {}
      },
      "source": [
        "# Для Google Colab - Устанавливаем последнюю версию tensorflow и keras\n",
        "! pip install tensorflow keras --upgrade"
      ],
      "execution_count": 0,
      "outputs": []
    },
    {
      "cell_type": "code",
      "metadata": {
        "id": "9y7djC4bhZIi",
        "colab_type": "code",
        "colab": {
          "base_uri": "https://localhost:8080/",
          "height": 72
        },
        "outputId": "14b02b04-019a-41c3-a461-b32c0b5721b0"
      },
      "source": [
        "import tensorflow as tf\n",
        "import keras\n",
        "print(tf.__version__)\n",
        "print(keras.__version__)"
      ],
      "execution_count": 1,
      "outputs": [
        {
          "output_type": "stream",
          "text": [
            "2.0.0\n",
            "2.3.1\n"
          ],
          "name": "stdout"
        },
        {
          "output_type": "stream",
          "text": [
            "Using TensorFlow backend.\n"
          ],
          "name": "stderr"
        }
      ]
    },
    {
      "cell_type": "code",
      "metadata": {
        "id": "t7VVLFodhORw",
        "colab_type": "code",
        "colab": {}
      },
      "source": [
        "# coding=utf-8\n",
        "#from __future__ import print_function\n",
        "import numpy as np\n",
        "np.random.seed(1337)  # for reproducibility\n",
        "from keras.datasets import mnist\n",
        "from keras.models import Sequential, load_model\n",
        "from keras.layers import Dense, Dropout, Activation, Flatten\n",
        "from keras.layers import Conv2D, MaxPooling2D\n",
        "from keras.utils import np_utils\n",
        "\n",
        "nb_classes = 10\n",
        "# размер изображения\n",
        "img_rows, img_cols = 28, 28\n",
        "\n",
        "# данные были перемешаны и разделены на обучающий и проверочный наборы\n",
        "(X_train, y_train), (X_test, y_test) = mnist.load_data()\n",
        "\n",
        "#изменяем размер массива  (кол-во примеров, w,h, кол-во каналов изображения)\n",
        "X_train = X_train.reshape(X_train.shape[0], img_rows, img_cols, 1)\n",
        "X_test = X_test.reshape(X_test.shape[0], img_rows, img_cols, 1)\n",
        "\n",
        "X_train = X_train.astype('float32')\n",
        "X_test = X_test.astype('float32')\n",
        "\n",
        "#переводим значения в диапазон от 0 до 1\n",
        "X_train /= 255\n",
        "X_test /= 255\n",
        "\n",
        "print('X_train shape:', X_train.shape)\n",
        "print(X_train.shape[0], 'train samples')\n",
        "print(X_test.shape[0], 'test samples')\n",
        "\n",
        "# преобразование вектора разметки в матрицу кол-во примеров*кол-во классов\n",
        "Y_train = np_utils.to_categorical(y_train, nb_classes)\n",
        "Y_test = np_utils.to_categorical(y_test, nb_classes)"
      ],
      "execution_count": 0,
      "outputs": []
    },
    {
      "cell_type": "markdown",
      "metadata": {
        "id": "GiDxhd13hOSD",
        "colab_type": "text"
      },
      "source": [
        "Далее создадим модель сверточной нейронной сети.    \n",
        "Обратите внимание как задаются параметры входных данных для первого слоя: input_shape=(28, 28, 1) - (w,h, кол-во каналов изображения). Такой способ задания называется channels_last и применяется в tensorflow. В Theano используется формат (channels, w, h), из-за этих различий в строке \"image_dim_ordering\" конфигурационного файла Keras необходимо указывать используемый формат.    \n",
        "По этой причине код сверточных сетей не будет запускаться без правок с раными бэкендами."
      ]
    },
    {
      "cell_type": "code",
      "metadata": {
        "id": "uE-2Y60DhOSF",
        "colab_type": "code",
        "colab": {}
      },
      "source": [
        "model = Sequential()\n",
        "\n",
        "#32 фильтра размером (3,3), \n",
        "#padding='valid' - не добавляем 0 на границе изображения, \n",
        "#после свертки получим меньшую размерность 26*26\n",
        "#padding='same' - добавляем 0, после свертки размерность будет 28x28\n",
        "model.add(Conv2D(32, (3, 3), padding='valid', input_shape=(28, 28, 1)))\n",
        "#params: 32*(3x3+1) = 320, output: (28-1-1)x(28-1-1) x 32 = 26x26 x 32\n",
        "model.add(Activation('relu'))\n",
        "\n",
        "model.add(Conv2D(32, (3, 3), activation ='relu'))\n",
        "#params: 32*(32*3*3+1) = 9248, output (26-2)x(26-2) x 32 = 24x24 x 32\n",
        "#model.add(Activation('relu'))\n",
        "\n",
        "model.add(MaxPooling2D(pool_size=(2, 2)))\n",
        "#output: 12x12 x 32\n",
        "\n",
        "model.add(Dropout(0.25))\n",
        "\n",
        "model.add(Flatten())\n",
        "#input: 12x12 x 32, output: 12x12x32=4608\n",
        "\n",
        "model.add(Dense(128))\n",
        "#params: (4608+1)*128=589952, output: 128\n",
        "model.add(Activation('relu'))\n",
        "\n",
        "model.add(Dropout(0.5))\n",
        "model.add(Dense(nb_classes))\n",
        "#params: (128+1)*10=1290\n",
        "\n",
        "model.add(Activation('softmax'))\n",
        "\n",
        "#Print model info\n",
        "#https://keras.io/models/about-keras-models/\n",
        "model.summary()\n",
        "\n",
        "#Total params: 600810\n",
        "\n",
        "model.compile(optimizer='adadelta',loss='categorical_crossentropy',metrics=['accuracy'])\n",
        "\n",
        "model.fit(X_train, Y_train, batch_size=128, epochs=1, #5,12\n",
        "verbose=1, validation_data=(X_test, Y_test))\n",
        "\n",
        "score = model.evaluate(X_test, Y_test,verbose=0)\n",
        "print('Test accuracy:', score[1])"
      ],
      "execution_count": 0,
      "outputs": []
    },
    {
      "cell_type": "markdown",
      "metadata": {
        "id": "PPNDApJxhOSK",
        "colab_type": "text"
      },
      "source": [
        "sudo apt-get install libhdf5-dev  \n",
        "pip install h5py"
      ]
    },
    {
      "cell_type": "code",
      "metadata": {
        "id": "iqDfJCZ1hOSM",
        "colab_type": "code",
        "colab": {}
      },
      "source": [
        "#Сохранение обученной модели на диск\n",
        "model.save('cnn.h5')"
      ],
      "execution_count": 0,
      "outputs": []
    },
    {
      "cell_type": "code",
      "metadata": {
        "id": "AAed4arYhOST",
        "colab_type": "code",
        "colab": {}
      },
      "source": [
        "del model\n",
        "\n",
        "# загрузка модели\n",
        "model = load_model('cnn.h5')"
      ],
      "execution_count": 0,
      "outputs": []
    },
    {
      "cell_type": "code",
      "metadata": {
        "id": "CI2i5XRihOSY",
        "colab_type": "code",
        "colab": {}
      },
      "source": [
        "import matplotlib.pyplot as plt\n",
        "import matplotlib.image as img\n",
        "%matplotlib inline\n",
        "\n",
        "sample_idx = np.random.randint(X_train.shape[0])  # выберем случайное изображение\n",
        "sample_image = X_train[sample_idx, :, :,0]  # extract a 2D slice \n",
        "\n",
        "plt.figure()\n",
        "plt.imshow(sample_image, cmap='gray')  # и выведем его на экран\n",
        "\n",
        "#Передаем изображение сети\n",
        "print np.argmax(model.predict(X_train[sample_idx,:].reshape(1, img_rows, img_cols, 1)))"
      ],
      "execution_count": 0,
      "outputs": []
    },
    {
      "cell_type": "code",
      "metadata": {
        "id": "fB2dzeCLhOSc",
        "colab_type": "code",
        "colab": {}
      },
      "source": [
        "from keras.preprocessing.image import img_to_array, load_img\n",
        "\n",
        "#чтение изображения в массив\n",
        "image = load_img('/media/a/test.jpg')\n",
        "image = img_to_array(image)\n",
        "\n"
      ],
      "execution_count": 0,
      "outputs": []
    },
    {
      "cell_type": "markdown",
      "metadata": {
        "id": "I0zWQzOohOSk",
        "colab_type": "text"
      },
      "source": [
        "### Вопросы"
      ]
    },
    {
      "cell_type": "markdown",
      "metadata": {
        "id": "20NPpuWvhOSm",
        "colab_type": "text"
      },
      "source": [
        "1. Выполните обучение сети с алгоритмами оптимизации sgd (стохастический градиентный спуск) и adam. Сравните точность распознавания сверточной и полносвязной нейронных сетей. https://keras.io/optimizers/ \n",
        "Более подробно чем отличаются алгоритмы оптимизации друг от друга: https://habrahabr.ru/post/318970/ \n",
        "2. Сравните результаты обучения с разным количеством эпох.\n",
        "3. Опишите какие операции выполняются на каждом из слоев сети.\n",
        "4. Напишите цифру на изображении 28*28 и проверьте справится ли с ним сеть."
      ]
    },
    {
      "cell_type": "code",
      "metadata": {
        "id": "uWkrGQrZhOSn",
        "colab_type": "code",
        "colab": {}
      },
      "source": [
        ""
      ],
      "execution_count": 0,
      "outputs": []
    }
  ]
}