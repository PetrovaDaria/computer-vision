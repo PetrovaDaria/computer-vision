{
  "nbformat": 4,
  "nbformat_minor": 0,
  "metadata": {
    "kernelspec": {
      "display_name": "Python [conda root]",
      "language": "python",
      "name": "conda-root-py"
    },
    "language_info": {
      "codemirror_mode": {
        "name": "ipython",
        "version": 3
      },
      "file_extension": ".py",
      "mimetype": "text/x-python",
      "name": "python",
      "nbconvert_exporter": "python",
      "pygments_lexer": "ipython3",
      "version": "3.5.2"
    },
    "colab": {
      "name": "new_ex1.ipynb",
      "provenance": [],
      "collapsed_sections": []
    }
  },
  "cells": [
    {
      "cell_type": "markdown",
      "metadata": {
        "id": "MV-4DwYAay3g",
        "colab_type": "text"
      },
      "source": [
        "## Введение в нейронные сети с Keras"
      ]
    },
    {
      "cell_type": "markdown",
      "metadata": {
        "id": "1SYjGDCEay3j",
        "colab_type": "text"
      },
      "source": [
        "[Keras](https://keras.io/) - библиотека для Python, предназначенная для создания и обучения нейронных сетей.  Keras позволяет создавать модели нейронных сетей из определенных блоков и является высокоуровневой оберткой для библиотек тензорных вычислений Tensorflow и Theano, в которых работа с данными ведется на уровне произведений тензоров (многомерных массивов). При необходимости вы можете дополнять код написанный на Keras вставками из Tensorflow / Theano."
      ]
    },
    {
      "cell_type": "markdown",
      "metadata": {
        "id": "S73ozRefay3m",
        "colab_type": "text"
      },
      "source": [
        "Стоит отметить, что работа над Theano остановлена, поэтому для работы с Keras рекомендуется использовать Tensorflow, разрабатываемый Google. Также Tensorflow позволяет использовать для обучения сетей мощности нескольких видеокарт (поддерживающих технологию Nvidia CUDA)."
      ]
    },
    {
      "cell_type": "markdown",
      "metadata": {
        "id": "uo4yXOsJay3o",
        "colab_type": "text"
      },
      "source": [
        "### 1. Установка библиотек"
      ]
    },
    {
      "cell_type": "markdown",
      "metadata": {
        "id": "RdY9B-CSay3q",
        "colab_type": "text"
      },
      "source": [
        "Для выполнения заданий необходимо установить:\n",
        "1. Tensorflow, установка  описана на странице: https://www.tensorflow.org/install/install_windows\n",
        "\n",
        "2. Keras:      \n",
        "    Windows, OSX: pip install keras   \n",
        "    Linux: sudo pip install keras"
      ]
    },
    {
      "cell_type": "markdown",
      "metadata": {
        "id": "k0eHeYgfay3v",
        "colab_type": "text"
      },
      "source": [
        "Для проверки, что Keras установлен, запустите python и выполните команду:"
      ]
    },
    {
      "cell_type": "code",
      "metadata": {
        "id": "XIe-GmoLbvfR",
        "colab_type": "code",
        "colab": {}
      },
      "source": [
        "# Для Google Colab - Устанавливаем последнюю версию tensorflow и keras\n",
        "! pip install tensorflow keras --upgrade"
      ],
      "execution_count": 0,
      "outputs": []
    },
    {
      "cell_type": "code",
      "metadata": {
        "id": "0Bv9M_sgcZAK",
        "colab_type": "code",
        "colab": {}
      },
      "source": [
        "# Для Google Colab\n",
        "# Сохраняем текущую конфигурацию в Google Drive\n",
        "from google.colab import drive\n",
        "drive.mount('/content/drive')\n",
        "! pip freeze --local > /content/drive/My\\ Drive/installed.txt"
      ],
      "execution_count": 0,
      "outputs": []
    },
    {
      "cell_type": "code",
      "metadata": {
        "id": "GNDb88OneWTD",
        "colab_type": "code",
        "colab": {}
      },
      "source": [
        "# Для Google Colab\n",
        "# Читаем сохраненную конфигурацию с Google Drive\n",
        "# from google.colab import drive\n",
        "# drive.mount('/content/drive')\n",
        "# ! pip install --upgrade --force-reinstall `cat/content/drive/My\\ Drive/installed"
      ],
      "execution_count": 0,
      "outputs": []
    },
    {
      "cell_type": "code",
      "metadata": {
        "id": "VfTavkbUfFwQ",
        "colab_type": "code",
        "colab": {}
      },
      "source": [
        "import tensorflow as tf\n",
        "import keras\n",
        "print(tf.__version__)\n",
        "print(keras.__version__)"
      ],
      "execution_count": 0,
      "outputs": []
    },
    {
      "cell_type": "markdown",
      "metadata": {
        "id": "Z3oAYcyPay4A",
        "colab_type": "text"
      },
      "source": [
        "### 2. Обучение нейронной сети на наборе MNIST"
      ]
    },
    {
      "cell_type": "markdown",
      "metadata": {
        "id": "B3KLSBNray4C",
        "colab_type": "text"
      },
      "source": [
        "MNIST - набор из 70 000 изображений 28*28 пикселей рукописных цифр. \n",
        "Далее мы рассмотрим создание нейронной сети, позволяющей определить какая цифра написана на изображении. В этом задании мы будем рассматривать полносвязные нейронные сети, которые принимают на вход изображения в виде вектора (длины 784)."
      ]
    },
    {
      "cell_type": "markdown",
      "metadata": {
        "id": "sg77jS2-ay4E",
        "colab_type": "text"
      },
      "source": [
        "#### Подключение NumPy и Keras"
      ]
    },
    {
      "cell_type": "code",
      "metadata": {
        "id": "BHC8Icqvay4F",
        "colab_type": "code",
        "colab": {}
      },
      "source": [
        "# coding=utf-8\n",
        "\n",
        "#Подключение Keras\n",
        "from keras.datasets import mnist\n",
        "from keras.models import Sequential\n",
        "from keras.layers.core import Dense\n",
        "from keras.utils import np_utils"
      ],
      "execution_count": 0,
      "outputs": []
    },
    {
      "cell_type": "markdown",
      "metadata": {
        "id": "qf8iebj1ay4K",
        "colab_type": "text"
      },
      "source": [
        "#### Загрузка обучающих и тестовых примеров из MNIST"
      ]
    },
    {
      "cell_type": "code",
      "metadata": {
        "id": "QpymK0Yyay4L",
        "colab_type": "code",
        "colab": {}
      },
      "source": [
        "nb_classes = 10 # задаем количество классов - количество цифр от 0 до 9\n",
        "\n",
        "# данные были перемешаны и разделены на обучающий и проверочный наборы\n",
        "(X_train, y_train), (X_test, y_test) = mnist.load_data()\n",
        "\n",
        "X_train = X_train.reshape(60000, 784) #переводим изображение в вектор\n",
        "X_test = X_test.reshape(10000, 784)\n",
        "\n",
        "X_train = X_train.astype(\"float32\")\n",
        "X_test = X_test.astype(\"float32\")\n",
        "\n",
        "X_train /= 255 #переводим значения в диапазон от 0 до 1\n",
        "X_test /= 255\n",
        "\n",
        "print(X_train.shape[0], 'train samples')\n",
        "print(X_test.shape[0], 'test samples')\n",
        "\n",
        "# преобразование вектора разметки в матрицу кол-во примеров*кол-во классов\n",
        "#это необходимо, потому что сеть будет выдавать результат в таком виде\n",
        "Y_train = np_utils.to_categorical(y_train, nb_classes)\n",
        "Y_test = np_utils.to_categorical(y_test, nb_classes)\n",
        "\n",
        "print(Y_train.shape, 'Y_train')"
      ],
      "execution_count": 0,
      "outputs": []
    },
    {
      "cell_type": "markdown",
      "metadata": {
        "id": "rcZvBP9May4Q",
        "colab_type": "text"
      },
      "source": [
        "#### Создание и обучение сети"
      ]
    },
    {
      "cell_type": "code",
      "metadata": {
        "id": "t_N3RvE_ay4R",
        "colab_type": "code",
        "colab": {}
      },
      "source": [
        "#Задаем последовательную модель, то есть слои сети идут друг за другом\n",
        "model = Sequential()\n",
        "\n",
        "# Создадим однослойную сеть\n",
        "#Задаем количество нейронов слоя, функцию активации и количество входных параметров\n",
        "model.add(Dense(units=10, activation=\"softmax\", input_dim=784))\n",
        "\n",
        "model.summary() #Вывести информацию о модели\n",
        "\n",
        "#optimizer - алгоритм, используемый для обучения сети, например - градиентный спуск\n",
        "#loss - функция стоимости(потерь), используемая для выполнения шага градиентного спуска\n",
        "#metrics - метрика, позволяющая нам оценить качество классификации сети\n",
        "model.compile(optimizer='adam', loss='categorical_crossentropy', metrics=['accuracy'])\n",
        "\n",
        "# validation_data предназначены для проверки качества работы сети, они не используются для обучения\n",
        "# verbose: 0, 1, or 2. Отвечает за вывод информации при обучении. \n",
        "#          0 = silent, 1 = progress bar, 2 = one line per epoch.\n",
        "model.fit(X_train, Y_train, batch_size=128, epochs=5, verbose=2, validation_data=(X_test, Y_test))\n",
        "\n",
        "#проверим качество работы на проверочном наборе\n",
        "score = model.evaluate(X_test, Y_test,verbose=0)\n",
        "\n",
        "#print('Test score:', score[0])\n",
        "print('Test accuracy:', score[1])\n"
      ],
      "execution_count": 0,
      "outputs": []
    },
    {
      "cell_type": "markdown",
      "metadata": {
        "id": "-oPCGbtZay4W",
        "colab_type": "text"
      },
      "source": [
        "#### Создание двухслойной сети\n",
        "\n",
        "Обучите двухслойную сеть:"
      ]
    },
    {
      "cell_type": "code",
      "metadata": {
        "id": "bAQS2XNIay4Y",
        "colab_type": "code",
        "colab": {}
      },
      "source": [
        "model = Sequential()\n",
        "model.add(Dense(units=100, input_dim=784, activation='relu'))\n",
        "model.add(Dense(units=nb_classes, activation='softmax'))"
      ],
      "execution_count": 0,
      "outputs": []
    },
    {
      "cell_type": "markdown",
      "metadata": {
        "id": "-J17s2Pray4c",
        "colab_type": "text"
      },
      "source": [
        "### Вопросы"
      ]
    },
    {
      "cell_type": "markdown",
      "metadata": {
        "id": "DMJo2j9Cay4e",
        "colab_type": "text"
      },
      "source": [
        "1. Зачем разделять данные на обучающий и проверочный наборы?\n",
        "2. За что отвечает параметры batch_size и epochs метода model.fit?\n",
        "3. Зачем нужна нормировка данных? Проверьте как обучится сеть без нее.\n",
        "4. Добавьте в сеть еще один скрытый слой с 200 нейронами и проверьте насколько трехслойная сеть работает лучше двухслойной."
      ]
    },
    {
      "cell_type": "code",
      "metadata": {
        "id": "Bwo7ZMNUay4g",
        "colab_type": "code",
        "colab": {}
      },
      "source": [
        ""
      ],
      "execution_count": 0,
      "outputs": []
    }
  ]
}